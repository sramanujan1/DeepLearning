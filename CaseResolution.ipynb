{
 "cells": [
  {
   "cell_type": "markdown",
   "metadata": {
    "collapsed": true
   },
   "source": [
    "# Case study in support ticket resolution"
   ]
  },
  {
   "cell_type": "markdown",
   "metadata": {},
   "source": [
    "### Ramanujan, Sanjay: E-89 course\n",
    "sramanujan1@gmail.com "
   ]
  },
  {
   "cell_type": "code",
   "execution_count": 1,
   "metadata": {},
   "outputs": [
    {
     "name": "stderr",
     "output_type": "stream",
     "text": [
      "Using TensorFlow backend.\n"
     ]
    },
    {
     "name": "stdout",
     "output_type": "stream",
     "text": [
      "2.2.4\n"
     ]
    }
   ],
   "source": [
    "import keras\n",
    "print(keras.__version__)"
   ]
  },
  {
   "cell_type": "code",
   "execution_count": 2,
   "metadata": {
    "collapsed": true
   },
   "outputs": [],
   "source": [
    "import numpy as np\n",
    "import pandas as pd\n",
    "import seaborn as sns\n",
    "import os\n",
    "import matplotlib.pyplot as plt\n",
    "import time\n",
    "from sklearn.preprocessing import StandardScaler\n",
    "from sklearn.model_selection import train_test_split\n",
    "\n",
    "import keras\n",
    "from keras.models import Sequential\n",
    "from keras.layers import Dense\n",
    "\n",
    "# fix random seed for reproducibility\n",
    "seed = 2019\n",
    "np.random.seed(seed)\n"
   ]
  },
  {
   "cell_type": "markdown",
   "metadata": {},
   "source": [
    "### Dataset analysis"
   ]
  },
  {
   "cell_type": "code",
   "execution_count": 3,
   "metadata": {},
   "outputs": [
    {
     "name": "stdout",
     "output_type": "stream",
     "text": [
      "(95245, 20)\n"
     ]
    }
   ],
   "source": [
    "# use pandas to load the data and observe the top few rows\n",
    "data = pd.read_csv(\"./supportcasesdata.csv\")\n",
    "print(data.shape)"
   ]
  },
  {
   "cell_type": "code",
   "execution_count": 4,
   "metadata": {},
   "outputs": [
    {
     "name": "stdout",
     "output_type": "stream",
     "text": [
      "(95245, 20)\n"
     ]
    }
   ],
   "source": [
    "# select columns of interest\n",
    "dataset = data[[\n",
    "                \"ResolutionTime\",\n",
    "                \"Title\", \n",
    "                \"Process\", \n",
    "                \"ServiceTeam\",\n",
    "                \"IsCrucial\", \n",
    "                \"IsGradient\", \n",
    "                \"IsResearch\", \"IsFaulty\",\"IsAvailable\",\"IsLowCost\",\n",
    "               \"DevelopmentType\", \"Geo\",\"Org\",\"ElecType\", \n",
    "               \"PlanType\",\"IsUseful\",\"Customer\",\"DeveloperName\",\"RegularType\"\n",
    "               ,\"StackTrace\"\n",
    "               ]]\n",
    "\n",
    "dataset[~dataset.isin(['NaN', 'NaT']).any(axis=1)]\n",
    "dataset.dropna()\n",
    "dataset = dataset[~dataset[dataset.columns.values].isnull()]\n",
    "print(dataset.shape)"
   ]
  },
  {
   "cell_type": "code",
   "execution_count": 5,
   "metadata": {},
   "outputs": [
    {
     "name": "stdout",
     "output_type": "stream",
     "text": [
      "ResolutionTime       object\n",
      "Title                object\n",
      "Process              object\n",
      "ServiceTeam          object\n",
      "IsCrucial             int64\n",
      "IsGradient         category\n",
      "IsResearch         category\n",
      "IsFaulty           category\n",
      "IsAvailable        category\n",
      "IsLowCost          category\n",
      "DevelopmentType      object\n",
      "Geo                  object\n",
      "Org                  object\n",
      "ElecType             object\n",
      "PlanType             object\n",
      "IsUseful           category\n",
      "Customer             object\n",
      "DeveloperName        object\n",
      "RegularType            bool\n",
      "StackTrace           object\n",
      "dtype: object\n"
     ]
    }
   ],
   "source": [
    "from pandas.api.types import CategoricalDtype\n",
    "\n",
    "# fix empty values\n",
    "dataset['IsGradient'].replace(to_replace=np.nan,\n",
    "                               value = 10.0,\n",
    "                               inplace = True\n",
    "                              )\n",
    "\n",
    "dataset['DevelopmentType'].replace(to_replace=np.nan,\n",
    "                               value = \"unknown\",\n",
    "                               inplace = True\n",
    "                              )\n",
    "\n",
    "dataset['Geo'].replace(to_replace=np.nan,\n",
    "                               value = \"unknown\",\n",
    "                               inplace = True\n",
    "                              )\n",
    "\n",
    "dataset['Org'].replace(to_replace=np.nan,\n",
    "                               value = \"unknown\",\n",
    "                               inplace = True\n",
    "                              )\n",
    "\n",
    "dataset['ElecType'].replace(to_replace=np.nan,\n",
    "                               value = \"unknown\",\n",
    "                               inplace = True\n",
    "                              )\n",
    "\n",
    "dataset['PlanType'].replace(to_replace=np.nan,\n",
    "                               value = \"unknown\",\n",
    "                               inplace = True\n",
    "                              )\n",
    "\n",
    "dataset['DeveloperName'].replace(to_replace=np.nan,\n",
    "                               value = \"unknown\",\n",
    "                               inplace = True\n",
    "                              )\n",
    "\n",
    "dataset['RegularType'].replace(to_replace=np.nan,\n",
    "                               value = False,\n",
    "                               inplace = True\n",
    "                              )\n",
    "# convert datasets\n",
    "dataset['IsGradient'] = dataset['IsGradient'].astype('category')\n",
    "dataset['IsUseful'] = dataset['IsUseful'].astype('category')\n",
    "dataset['IsResearch'] = dataset['IsResearch'].astype('category')\n",
    "dataset['IsFaulty'] = dataset['IsFaulty'].astype('category')\n",
    "dataset['IsAvailable'] = dataset['IsAvailable'].astype('category')\n",
    "dataset['IsLowCost'] = dataset['IsLowCost'].astype('category')\n",
    "\n",
    "dataset_fixed = dataset\n",
    "dataset_binarize = dataset\n",
    "print(dataset_binarize.dtypes)"
   ]
  },
  {
   "cell_type": "markdown",
   "metadata": {},
   "source": [
    "### We replace values with encoding that allow us to feed data into ML models"
   ]
  },
  {
   "cell_type": "code",
   "execution_count": 6,
   "metadata": {},
   "outputs": [
    {
     "name": "stdout",
     "output_type": "stream",
     "text": [
      "ResolutionTime     int64\n",
      "Title              int64\n",
      "Process            int64\n",
      "ServiceTeam        int64\n",
      "IsCrucial          int64\n",
      "IsGradient         int64\n",
      "IsResearch         int64\n",
      "IsFaulty           int64\n",
      "IsAvailable        int64\n",
      "IsLowCost          int64\n",
      "DevelopmentType    int64\n",
      "Geo                int64\n",
      "Org                int64\n",
      "ElecType           int64\n",
      "PlanType           int64\n",
      "IsUseful           int64\n",
      "Customer           int64\n",
      "DeveloperName      int64\n",
      "RegularType         bool\n",
      "StackTrace         int64\n",
      "dtype: object\n"
     ]
    }
   ],
   "source": [
    "from sklearn.preprocessing import LabelEncoder, OneHotEncoder, LabelBinarizer, MultiLabelBinarizer\n",
    "\n",
    "#Step 1: Generate numerical codes for each column\n",
    "def LabelCodingData(df):\n",
    "        columnsToEncode = list(df.select_dtypes(include=['category','object', 'int64']))\n",
    "        le = LabelEncoder()\n",
    "        for feature in columnsToEncode:\n",
    "            try:\n",
    "                df[feature] = le.fit_transform(df[feature])\n",
    "            except:\n",
    "                print('Error encoding ', feature)\n",
    "        return df\n",
    "\n",
    "dataset = LabelCodingData(dataset_fixed)    \n",
    "print(dataset.dtypes)\n"
   ]
  },
  {
   "cell_type": "code",
   "execution_count": 7,
   "metadata": {
    "collapsed": true
   },
   "outputs": [],
   "source": [
    "# remove this objective function from feature dataset or we will get 99%+ prediction :-) \n",
    "\n",
    "labels = np.array(dataset[\"ResolutionTime\"])\n",
    "\n",
    "features= dataset.drop(\"ResolutionTime\", axis = 1)\n",
    "\n",
    "#save feature list\n",
    "feature_list = list(features.columns)\n",
    "\n",
    "# Convert to numpy array\n",
    "features = np.array(features)\n"
   ]
  },
  {
   "cell_type": "code",
   "execution_count": 9,
   "metadata": {},
   "outputs": [
    {
     "name": "stdout",
     "output_type": "stream",
     "text": [
      "X_train.shape:  (76196, 19)\n",
      "X_test.shape:  (19049, 19)\n",
      "y_train:  (76196,)\n",
      "y_test:  (19049,)\n"
     ]
    }
   ],
   "source": [
    "# Prepare the data \n",
    "# Splitting the dataset into the Training set and Test set (80/20)\n",
    "from sklearn.model_selection import train_test_split\n",
    "X_train, X_test, y_train, y_test = train_test_split(features, labels, test_size = 0.2, random_state=2019)\n",
    "\n",
    "print(\"X_train.shape: \", X_train.shape)\n",
    "print(\"X_test.shape: \", X_test.shape)\n",
    "print(\"y_train: \", y_train.shape)\n",
    "print(\"y_test: \", y_test.shape)"
   ]
  },
  {
   "cell_type": "markdown",
   "metadata": {},
   "source": [
    "### At first pass, we analyze the features for variable importance"
   ]
  },
  {
   "cell_type": "code",
   "execution_count": 10,
   "metadata": {},
   "outputs": [
    {
     "name": "stderr",
     "output_type": "stream",
     "text": [
      "C:\\Users\\sanram\\AppData\\Local\\Continuum\\anaconda3\\lib\\site-packages\\sklearn\\ensemble\\weight_boosting.py:29: DeprecationWarning: numpy.core.umath_tests is an internal NumPy module and should not be imported. It will be removed in a future NumPy release.\n",
      "  from numpy.core.umath_tests import inner1d\n"
     ]
    },
    {
     "name": "stdout",
     "output_type": "stream",
     "text": [
      "[0.19998142 0.0857499  0.15225159 0.01841251 0.03733814 0.01079126\n",
      " 0.05739732 0.01295006 0.01084953 0.05695257 0.01218801 0.01300408\n",
      " 0.01471953 0.14938118 0.01130902 0.01329426 0.02288807 0.01212475\n",
      " 0.1084168 ]\n"
     ]
    }
   ],
   "source": [
    "from sklearn.ensemble import RandomForestClassifier\n",
    "\n",
    "# Create a Gaussian classifier\n",
    "model = RandomForestClassifier(n_estimators=500, random_state = 2019)\n",
    "\n",
    "# Train the model \n",
    "model.fit(X_train,y_train)\n",
    "#score = model.score(X_train, y_train)\n",
    "\n",
    "# predict on holdout and get feature importance\n",
    "#y_pred = model.predict(X_test)\n",
    "print(model.feature_importances_)"
   ]
  },
  {
   "cell_type": "code",
   "execution_count": 11,
   "metadata": {},
   "outputs": [
    {
     "name": "stdout",
     "output_type": "stream",
     "text": [
      "Variable: Title                Importance: 0.2\n",
      "Variable: ServiceTeam          Importance: 0.15\n",
      "Variable: PlanType             Importance: 0.15\n",
      "Variable: StackTrace           Importance: 0.11\n",
      "Variable: Process              Importance: 0.09\n",
      "Variable: IsFaulty             Importance: 0.06\n",
      "Variable: DevelopmentType      Importance: 0.06\n",
      "Variable: IsGradient           Importance: 0.04\n",
      "Variable: IsCrucial            Importance: 0.02\n",
      "Variable: DeveloperName        Importance: 0.02\n",
      "Variable: IsResearch           Importance: 0.01\n",
      "Variable: IsAvailable          Importance: 0.01\n",
      "Variable: IsLowCost            Importance: 0.01\n",
      "Variable: Geo                  Importance: 0.01\n",
      "Variable: Org                  Importance: 0.01\n",
      "Variable: ElecType             Importance: 0.01\n",
      "Variable: IsUseful             Importance: 0.01\n",
      "Variable: Customer             Importance: 0.01\n",
      "Variable: RegularType          Importance: 0.01\n"
     ]
    }
   ],
   "source": [
    "# Get numerical feature importances\n",
    "importances = list(model.feature_importances_)\n",
    "\n",
    "# List of tuples with variable and importance\n",
    "feature_importances = [(feature, round(importance, 2)) for feature, importance in zip(feature_list, importances)]\n",
    "\n",
    "# Sort the feature importances by most important first\n",
    "feature_importances = sorted(feature_importances, key = lambda x: x[1], reverse = True)\n",
    "\n",
    "# Print out the feature and importances \n",
    "[print('Variable: {:20} Importance: {}'.format(*pair)) for pair in feature_importances];\n",
    "\n",
    "#print(feature_importances)"
   ]
  },
  {
   "cell_type": "markdown",
   "metadata": {},
   "source": [
    "### Create a histogram illustrating feature importance to resolution time"
   ]
  },
  {
   "cell_type": "code",
   "execution_count": 12,
   "metadata": {},
   "outputs": [
    {
     "data": {
      "image/png": "[encoded data removed]",
      "text/plain": [
       "<Figure size 640x480 with 1 Axes>"
      ]
     },
     "metadata": {},
     "output_type": "display_data"
    }
   ],
   "source": [
    "# Import matplotlib for plotting \n",
    "from operator import itemgetter\n",
    "import matplotlib.pyplot as plt\n",
    "%matplotlib inline\n",
    "\n",
    "# Set the style\n",
    "#plt.style.use('fivethirtyeight')\n",
    "#plt.style.use('seaborn-whitegrid')\n",
    "plt.style.use('classic')\n",
    "\n",
    "mydict = dict(zip(feature_list, importances))\n",
    "mydict_sorted = sorted(mydict.items(), key=lambda x:x[1], reverse=True) # a list \n",
    "\n",
    "dfchart = pd.DataFrame(mydict_sorted)\n",
    "dfchart.columns = ['Features', 'Importance']\n",
    "dfchart = dfchart.sort_values(by='Importance', ascending=True)\n",
    "#dfchart = dfchart.iloc[::-1]\n",
    "#dfchart = dfchart.reset_index(inplace=False)\n",
    "\n",
    "plt.barh(dfchart.Features, dfchart.Importance, height = 0.8, color = 'green', tick_label = dfchart.Features)\n",
    "plt.yticks(dfchart.Features, dfchart.Features)\n",
    "\n",
    "plt.ylabel('Importance'); plt.xlabel('Feature'); plt.title('Variable Importance');\n",
    "plt.show()"
   ]
  },
  {
   "cell_type": "markdown",
   "metadata": {
    "collapsed": true
   },
   "source": [
    "### For curiosity and giggles, we use a traditional ML model such as xgboost to predict ML KPIs"
   ]
  },
  {
   "cell_type": "code",
   "execution_count": 50,
   "metadata": {},
   "outputs": [
    {
     "name": "stderr",
     "output_type": "stream",
     "text": [
      "C:\\Users\\sanram\\AppData\\Local\\Continuum\\anaconda3\\lib\\site-packages\\sklearn\\preprocessing\\label.py:151: DeprecationWarning: The truth value of an empty array is ambiguous. Returning False, but in future this will result in an error. Use `array.size > 0` to check that an array is not empty.\n",
      "  if diff:\n",
      "C:\\Users\\sanram\\AppData\\Local\\Continuum\\anaconda3\\lib\\site-packages\\sklearn\\preprocessing\\label.py:151: DeprecationWarning: The truth value of an empty array is ambiguous. Returning False, but in future this will result in an error. Use `array.size > 0` to check that an array is not empty.\n",
      "  if diff:\n"
     ]
    }
   ],
   "source": [
    "from xgboost import XGBClassifier\n",
    "xgb_model = XGBClassifier(n_estimators = 2000, random_state = 2019)\n",
    "\n",
    "# Train the model \n",
    "xgb_model.fit(X_train,y_train)\n",
    "score = xgb_model.score(X_train, y_train)\n",
    "xgb_y_pred = xgb_model.predict(X_test)"
   ]
  },
  {
   "cell_type": "code",
   "execution_count": 51,
   "metadata": {},
   "outputs": [
    {
     "data": {
      "text/plain": [
       "(0.6552215855570523, 0.6533151346527377, 0.6539683145032534, None)"
      ]
     },
     "execution_count": 51,
     "metadata": {},
     "output_type": "execute_result"
    }
   ],
   "source": [
    "from sklearn.metrics import precision_recall_fscore_support\n",
    "precision_recall_fscore_support(y_test, xgb_y_pred, average='weighted')"
   ]
  },
  {
   "cell_type": "markdown",
   "metadata": {},
   "source": [
    "#### These features explain 65% of the reasons behind resolution time (not a bad start). We get almost equal precision and recall. The remaining features include data from stack trace exceptions that we can add into NN and see if this beats the traditional ML model. \n"
   ]
  },
  {
   "cell_type": "markdown",
   "metadata": {
    "collapsed": true
   },
   "source": [
    "### 2. Use Deep Learning models for this prediction"
   ]
  },
  {
   "cell_type": "code",
   "execution_count": 6,
   "metadata": {},
   "outputs": [
    {
     "data": {
      "text/html": [
       "<div>\n",
       "<style>\n",
       "    .dataframe thead tr:only-child th {\n",
       "        text-align: right;\n",
       "    }\n",
       "\n",
       "    .dataframe thead th {\n",
       "        text-align: left;\n",
       "    }\n",
       "\n",
       "    .dataframe tbody tr th {\n",
       "        vertical-align: top;\n",
       "    }\n",
       "</style>\n",
       "<table border=\"1\" class=\"dataframe\">\n",
       "  <thead>\n",
       "    <tr style=\"text-align: right;\">\n",
       "      <th></th>\n",
       "      <th>ResolutionTime</th>\n",
       "      <th>Title</th>\n",
       "      <th>Process</th>\n",
       "      <th>ServiceTeam</th>\n",
       "      <th>IsCrucial</th>\n",
       "      <th>IsGradient</th>\n",
       "      <th>IsResearch</th>\n",
       "      <th>IsFaulty</th>\n",
       "      <th>IsAvailable</th>\n",
       "      <th>IsLowCost</th>\n",
       "      <th>...</th>\n",
       "      <th>Geo</th>\n",
       "      <th>Org</th>\n",
       "      <th>ElecType</th>\n",
       "      <th>PlanType</th>\n",
       "      <th>IsUseful</th>\n",
       "      <th>Customer</th>\n",
       "      <th>DeveloperName</th>\n",
       "      <th>RegularType</th>\n",
       "      <th>StackTrace</th>\n",
       "      <th>CleanedText</th>\n",
       "    </tr>\n",
       "  </thead>\n",
       "  <tbody>\n",
       "    <tr>\n",
       "      <th>95240</th>\n",
       "      <td>Enormous</td>\n",
       "      <td>H167A</td>\n",
       "      <td>R489I87F</td>\n",
       "      <td>76IK112C</td>\n",
       "      <td>0</td>\n",
       "      <td>10.0</td>\n",
       "      <td>0</td>\n",
       "      <td>0</td>\n",
       "      <td>0</td>\n",
       "      <td>0</td>\n",
       "      <td>...</td>\n",
       "      <td>EXL</td>\n",
       "      <td>XYZ</td>\n",
       "      <td>789ZYX</td>\n",
       "      <td>T370K187H</td>\n",
       "      <td>0</td>\n",
       "      <td>65J754</td>\n",
       "      <td>I123H681</td>\n",
       "      <td>False</td>\n",
       "      <td>2579ZHA 827262QRI 218635QHE</td>\n",
       "      <td>2579ZHA 827262QRI 218635QHE</td>\n",
       "    </tr>\n",
       "    <tr>\n",
       "      <th>95241</th>\n",
       "      <td>Low</td>\n",
       "      <td>H167A</td>\n",
       "      <td>R22S77J</td>\n",
       "      <td>76IK112C</td>\n",
       "      <td>0</td>\n",
       "      <td>10.0</td>\n",
       "      <td>0</td>\n",
       "      <td>0</td>\n",
       "      <td>0</td>\n",
       "      <td>0</td>\n",
       "      <td>...</td>\n",
       "      <td>NQX</td>\n",
       "      <td>ABC</td>\n",
       "      <td>123ABC</td>\n",
       "      <td>X257QL25675</td>\n",
       "      <td>0</td>\n",
       "      <td>361Q690</td>\n",
       "      <td>J77I706</td>\n",
       "      <td>False</td>\n",
       "      <td>2579ZHA 827262QRI 218635QHE</td>\n",
       "      <td>2579ZHA 827262QRI 218635QHE</td>\n",
       "    </tr>\n",
       "    <tr>\n",
       "      <th>95242</th>\n",
       "      <td>High</td>\n",
       "      <td>M102</td>\n",
       "      <td>D384E75X</td>\n",
       "      <td>76IK112C</td>\n",
       "      <td>0</td>\n",
       "      <td>50.0</td>\n",
       "      <td>0</td>\n",
       "      <td>0</td>\n",
       "      <td>1</td>\n",
       "      <td>0</td>\n",
       "      <td>...</td>\n",
       "      <td>EXL</td>\n",
       "      <td>XYZ</td>\n",
       "      <td>123ABC</td>\n",
       "      <td>R124SJ106685</td>\n",
       "      <td>0</td>\n",
       "      <td>65J754</td>\n",
       "      <td>I123H681</td>\n",
       "      <td>True</td>\n",
       "      <td>2579ZHA 827262QRI 218635QHE</td>\n",
       "      <td>2579ZHA 827262QRI 218635QHE</td>\n",
       "    </tr>\n",
       "    <tr>\n",
       "      <th>95243</th>\n",
       "      <td>Low</td>\n",
       "      <td>K457</td>\n",
       "      <td>Z68H68A</td>\n",
       "      <td>180EF447Y</td>\n",
       "      <td>0</td>\n",
       "      <td>50.0</td>\n",
       "      <td>0</td>\n",
       "      <td>0</td>\n",
       "      <td>1</td>\n",
       "      <td>0</td>\n",
       "      <td>...</td>\n",
       "      <td>EXL</td>\n",
       "      <td>XYZ</td>\n",
       "      <td>123ABC</td>\n",
       "      <td>S246JG84758</td>\n",
       "      <td>1</td>\n",
       "      <td>65J754</td>\n",
       "      <td>I123H681</td>\n",
       "      <td>True</td>\n",
       "      <td>2579ZHA 827262QRI 218635QHE</td>\n",
       "      <td>2579ZHA 827262QRI 218635QHE</td>\n",
       "    </tr>\n",
       "    <tr>\n",
       "      <th>95244</th>\n",
       "      <td>Enormous</td>\n",
       "      <td>B339</td>\n",
       "      <td>D384E75X</td>\n",
       "      <td>362GZ92W</td>\n",
       "      <td>1</td>\n",
       "      <td>10.0</td>\n",
       "      <td>0</td>\n",
       "      <td>0</td>\n",
       "      <td>0</td>\n",
       "      <td>0</td>\n",
       "      <td>...</td>\n",
       "      <td>EXL</td>\n",
       "      <td>XYZ</td>\n",
       "      <td>123ABC</td>\n",
       "      <td>W324XQ179652</td>\n",
       "      <td>0</td>\n",
       "      <td>65J754</td>\n",
       "      <td>I123H681</td>\n",
       "      <td>False</td>\n",
       "      <td>2579ZHA 827262QRI 218635QHE</td>\n",
       "      <td>2579ZHA 827262QRI 218635QHE</td>\n",
       "    </tr>\n",
       "  </tbody>\n",
       "</table>\n",
       "<p>5 rows × 21 columns</p>\n",
       "</div>"
      ],
      "text/plain": [
       "      ResolutionTime  Title   Process ServiceTeam  IsCrucial IsGradient  \\\n",
       "95240       Enormous  H167A  R489I87F    76IK112C          0       10.0   \n",
       "95241            Low  H167A   R22S77J    76IK112C          0       10.0   \n",
       "95242           High   M102  D384E75X    76IK112C          0       50.0   \n",
       "95243            Low   K457   Z68H68A   180EF447Y          0       50.0   \n",
       "95244       Enormous   B339  D384E75X    362GZ92W          1       10.0   \n",
       "\n",
       "      IsResearch IsFaulty IsAvailable IsLowCost             ...               \\\n",
       "95240          0        0           0         0             ...                \n",
       "95241          0        0           0         0             ...                \n",
       "95242          0        0           1         0             ...                \n",
       "95243          0        0           1         0             ...                \n",
       "95244          0        0           0         0             ...                \n",
       "\n",
       "       Geo  Org ElecType      PlanType IsUseful Customer DeveloperName  \\\n",
       "95240  EXL  XYZ   789ZYX     T370K187H        0   65J754      I123H681   \n",
       "95241  NQX  ABC   123ABC   X257QL25675        0  361Q690       J77I706   \n",
       "95242  EXL  XYZ   123ABC  R124SJ106685        0   65J754      I123H681   \n",
       "95243  EXL  XYZ   123ABC   S246JG84758        1   65J754      I123H681   \n",
       "95244  EXL  XYZ   123ABC  W324XQ179652        0   65J754      I123H681   \n",
       "\n",
       "      RegularType                   StackTrace                  CleanedText  \n",
       "95240       False  2579ZHA 827262QRI 218635QHE  2579ZHA 827262QRI 218635QHE  \n",
       "95241       False  2579ZHA 827262QRI 218635QHE  2579ZHA 827262QRI 218635QHE  \n",
       "95242        True  2579ZHA 827262QRI 218635QHE  2579ZHA 827262QRI 218635QHE  \n",
       "95243        True  2579ZHA 827262QRI 218635QHE  2579ZHA 827262QRI 218635QHE  \n",
       "95244       False  2579ZHA 827262QRI 218635QHE  2579ZHA 827262QRI 218635QHE  \n",
       "\n",
       "[5 rows x 21 columns]"
      ]
     },
     "execution_count": 6,
     "metadata": {},
     "output_type": "execute_result"
    }
   ],
   "source": [
    "# split the text\n",
    "dataset['CleanedText'] = data['StackTrace'].str.replace('.', ' ')\n",
    "dataset.tail(5)"
   ]
  },
  {
   "cell_type": "code",
   "execution_count": 7,
   "metadata": {},
   "outputs": [
    {
     "name": "stdout",
     "output_type": "stream",
     "text": [
      "95245\n"
     ]
    }
   ],
   "source": [
    "from keras.preprocessing.text import one_hot,Tokenizer\n",
    "from keras.preprocessing.sequence import pad_sequences\n",
    "\n",
    "# create our corpus list from this cleaned text\n",
    "corp = []\n",
    "for row in dataset['CleanedText']:\n",
    "    corp.append(row)\n",
    "\n",
    "\n",
    "no_docs=len(corp)\n",
    "print(no_docs) \n",
    "#corp"
   ]
  },
  {
   "cell_type": "markdown",
   "metadata": {},
   "source": [
    "#### We implement a tokenizer using Keras API"
   ]
  },
  {
   "cell_type": "code",
   "execution_count": 8,
   "metadata": {},
   "outputs": [
    {
     "name": "stdout",
     "output_type": "stream",
     "text": [
      "95245\n"
     ]
    },
    {
     "data": {
      "text/plain": [
       "list"
      ]
     },
     "execution_count": 8,
     "metadata": {},
     "output_type": "execute_result"
    }
   ],
   "source": [
    "# implement tokenizer\n",
    "from keras.preprocessing.text import Tokenizer\n",
    "from keras.preprocessing.text import text_to_word_sequence\n",
    "\n",
    "tokens = []\n",
    "for row in dataset['CleanedText']:\n",
    "    word_seq = text_to_word_sequence(row)\n",
    "    tokens.append(word_seq)\n",
    "\n",
    "print(len(tokens))\n",
    "type(tokens)\n",
    "#tokens"
   ]
  },
  {
   "cell_type": "code",
   "execution_count": 9,
   "metadata": {
    "collapsed": true
   },
   "outputs": [],
   "source": [
    "from keras.preprocessing.text import Tokenizer\n",
    "# create the tokenizer\n",
    "t = Tokenizer()\n",
    "# fit the tokenizer on the documents\n",
    "t.fit_on_texts(dataset['CleanedText'])"
   ]
  },
  {
   "cell_type": "code",
   "execution_count": 10,
   "metadata": {},
   "outputs": [
    {
     "name": "stdout",
     "output_type": "stream",
     "text": [
      "Word counts:  263\n",
      "\n",
      "\n",
      "Word index:  263\n",
      "\n",
      "\n",
      "Word docs:  263\n",
      "\n",
      "\n"
     ]
    }
   ],
   "source": [
    "# http://faroit.com/keras-docs/1.2.2/preprocessing/text/\n",
    "# summarize what was learned\n",
    "print(\"Word counts: \", len(t.word_counts))\n",
    "print(\"\\n\")\n",
    "print(\"Word index: \", len(t.word_index))\n",
    "print(\"\\n\")\n",
    "print(\"Word docs: \" , len(t.word_docs))\n",
    "print(\"\\n\")"
   ]
  },
  {
   "cell_type": "code",
   "execution_count": 11,
   "metadata": {
    "collapsed": true
   },
   "outputs": [],
   "source": [
    "# estimate the size of the vocabulary\n",
    "from keras.preprocessing.text import text_to_word_sequence\n",
    "from keras.preprocessing.text import one_hot\n",
    "\n",
    "vocab_size=len(t.word_counts)*1.2  \n",
    "encod_corp=[]\n",
    "for i,doc in enumerate(corp):\n",
    "    encod_corp.append(one_hot(doc,vocab_size))\n",
    "#    print(\"The encoding for document\",i+1,\" is : \",one_hot(doc,vocab_size))\n"
   ]
  },
  {
   "cell_type": "code",
   "execution_count": 12,
   "metadata": {},
   "outputs": [
    {
     "name": "stdout",
     "output_type": "stream",
     "text": [
      "The maximum number of words in any document is :  8\n"
     ]
    }
   ],
   "source": [
    "# length of maximum document. will be nedded whenever create embeddings for the words\n",
    "maxlen=-1\n",
    "for doc in corp:\n",
    "#    tokens=nltk.word_tokenize(doc)\n",
    "    tokens = text_to_word_sequence(doc)\n",
    "    if(maxlen<len(tokens)):\n",
    "        maxlen=len(tokens)\n",
    "print(\"The maximum number of words in any document is : \",maxlen)"
   ]
  },
  {
   "cell_type": "markdown",
   "metadata": {},
   "source": [
    "### We create padding to allow us to have each record with same number of tokens"
   ]
  },
  {
   "cell_type": "code",
   "execution_count": 13,
   "metadata": {},
   "outputs": [
    {
     "name": "stdout",
     "output_type": "stream",
     "text": [
      "No of padded documents:  95245\n"
     ]
    }
   ],
   "source": [
    "# now to create embeddings all of our docs need to be of same length. hence we can pad the docs with zeros.\n",
    "from keras.preprocessing.sequence import pad_sequences\n",
    "pad_corp=pad_sequences(encod_corp,maxlen=maxlen,padding='post',value=0.0)\n",
    "print(\"No of padded documents: \",len(pad_corp))"
   ]
  },
  {
   "cell_type": "raw",
   "metadata": {},
   "source": [
    "for i,doc in enumerate(pad_corp):\n",
    "    print(\"The padded encoding for document\",i+1,\" is : \",doc)"
   ]
  },
  {
   "cell_type": "code",
   "execution_count": 14,
   "metadata": {},
   "outputs": [
    {
     "name": "stdout",
     "output_type": "stream",
     "text": [
      "(95245, 8)\n"
     ]
    },
    {
     "data": {
      "text/plain": [
       "numpy.ndarray"
      ]
     },
     "execution_count": 14,
     "metadata": {},
     "output_type": "execute_result"
    }
   ],
   "source": [
    "print(pad_corp.shape)\n",
    "type(pad_corp)"
   ]
  },
  {
   "cell_type": "code",
   "execution_count": 15,
   "metadata": {},
   "outputs": [
    {
     "name": "stdout",
     "output_type": "stream",
     "text": [
      "(95245, 21)\n",
      "(95245, 116)\n",
      "<class 'numpy.ndarray'>\n",
      "(95245, 872)\n",
      "(95245, 220)\n",
      "(95245, 1)\n",
      "(95245, 4)\n",
      "(95245, 38)\n",
      "(95245, 3)\n",
      "(95245, 3)\n",
      "(95245, 3)\n",
      "(95245, 55)\n",
      "(95245, 3)\n",
      "(95245, 11)\n",
      "(95245, 9)\n",
      "(95245, 1)\n",
      "(95245, 1)\n",
      "(95245, 1)\n",
      "(95245, 1)\n",
      "(95245, 1)\n",
      "(95245, 1351)\n",
      "<class 'pandas.core.series.Series'>\n",
      "<class 'numpy.ndarray'>\n",
      "<class 'numpy.ndarray'>\n",
      "1351\n",
      "['Low' 'Enormous' 'Medium' ... 'High' 'Low' 'Enormous']\n"
     ]
    }
   ],
   "source": [
    "### use one hot encoding for neural network based models\n",
    "# we simply use LabelBinarizer to perform one hot encoding in one step\n",
    "from sklearn.preprocessing import LabelBinarizer\n",
    "df_nn = pd.DataFrame()\n",
    "print(dataset_binarize.shape)\n",
    "\n",
    "Process_nn = LabelBinarizer().fit_transform(dataset_binarize['Process'])\n",
    "print(Process_nn.shape)\n",
    "print(type(Process_nn))\n",
    "\n",
    "Title_nn = LabelBinarizer().fit_transform(dataset_binarize['Title'])\n",
    "print(Title_nn.shape)\n",
    "\n",
    "ServiceTeam_nn = LabelBinarizer().fit_transform(dataset_binarize['ServiceTeam'])\n",
    "print(ServiceTeam_nn.shape)\n",
    "\n",
    "IsCrucial_nn = LabelBinarizer().fit_transform(dataset_binarize['IsCrucial'])\n",
    "print(IsCrucial_nn.shape)\n",
    "\n",
    "IsGradient_nn = LabelBinarizer().fit_transform(dataset_binarize['IsGradient'])\n",
    "print(IsGradient_nn.shape)\n",
    "\n",
    "DevelopmentType_nn = LabelBinarizer().fit_transform(dataset_binarize['DevelopmentType'])\n",
    "print(DevelopmentType_nn.shape)\n",
    "\n",
    "Geo_nn = LabelBinarizer().fit_transform(dataset_binarize['Geo'])\n",
    "print(Geo_nn.shape)\n",
    "\n",
    "Org_nn = LabelBinarizer().fit_transform(dataset_binarize['Org'])\n",
    "print(Org_nn.shape)\n",
    "\n",
    "ElecType_nn = LabelBinarizer().fit_transform(dataset_binarize['ElecType'])\n",
    "print(ElecType_nn.shape)\n",
    "\n",
    "PlanType_nn = LabelBinarizer().fit_transform(dataset_binarize['PlanType'])\n",
    "print(PlanType_nn.shape)\n",
    "\n",
    "IsUseful_nn = LabelBinarizer().fit_transform(dataset_binarize['IsUseful'])\n",
    "print(IsUseful_nn.shape)\n",
    "\n",
    "Customer_nn = LabelBinarizer().fit_transform(dataset_binarize['Customer'])\n",
    "print(Customer_nn.shape)\n",
    "\n",
    "DeveloperName_nn = LabelBinarizer().fit_transform(dataset_binarize['DeveloperName'])\n",
    "print(DeveloperName_nn.shape)\n",
    "\n",
    "RegularType_nn = LabelBinarizer().fit_transform(dataset_binarize['RegularType'])\n",
    "print(RegularType_nn.shape)\n",
    "\n",
    "IsResearch_nn = LabelBinarizer().fit_transform(dataset_binarize['IsResearch'])\n",
    "print(IsResearch_nn.shape)\n",
    "\n",
    "IsFaulty_nn = LabelBinarizer().fit_transform(dataset_binarize['IsFaulty'])\n",
    "print(IsFaulty_nn.shape)\n",
    "\n",
    "IsAvailable_nn = LabelBinarizer().fit_transform(dataset_binarize['IsAvailable'])\n",
    "print(IsAvailable_nn.shape)\n",
    "\n",
    "IsLowCost_nn = LabelBinarizer().fit_transform(dataset_binarize['IsLowCost'])\n",
    "print(IsLowCost_nn.shape)\n",
    "\n",
    "\n",
    "df_nn = np.concatenate([Title_nn, Process_nn,ServiceTeam_nn,IsCrucial_nn,IsGradient_nn,\n",
    "                        DevelopmentType_nn, Geo_nn, Org_nn, ElecType_nn,\n",
    "                        IsResearch_nn, IsFaulty_nn, IsAvailable_nn, IsLowCost_nn, pad_corp,\n",
    "                        PlanType_nn, IsUseful_nn, Customer_nn, DeveloperName_nn, RegularType_nn], axis=1)\n",
    "\n",
    "print(df_nn.shape)\n",
    "print(type(dataset_binarize['ResolutionTime']))\n",
    "print(type(df_nn))\n",
    "\n",
    "labels_nn = np.array(dataset_binarize['ResolutionTime'])\n",
    "features_nn = np.array(df_nn)\n",
    "\n",
    "print(type(labels_nn))\n",
    "print(features_nn.shape[1])\n",
    "print(labels_nn)"
   ]
  },
  {
   "cell_type": "markdown",
   "metadata": {},
   "source": [
    "### We once again set aside data for train and test using scikit learn libraries"
   ]
  },
  {
   "cell_type": "code",
   "execution_count": 24,
   "metadata": {},
   "outputs": [
    {
     "name": "stdout",
     "output_type": "stream",
     "text": [
      "X_train.shape:  (76196, 1351)\n",
      "X_test.shape:  (19049, 1351)\n",
      "y_train:  (76196,)\n",
      "y_test:  (19049,)\n"
     ]
    },
    {
     "data": {
      "text/plain": [
       "array([2, 2, 0, ..., 1, 0, 2], dtype=int64)"
      ]
     },
     "execution_count": 24,
     "metadata": {},
     "output_type": "execute_result"
    }
   ],
   "source": [
    "X_train_nn, X_test_nn, y_train_nn, y_test_nn = train_test_split(features_nn, labels_nn, test_size = 0.2, random_state=2019)\n",
    "\n",
    "# Alternatively\n",
    "#X_val = X[:2000]\n",
    "#X_train = X[8000:]\n",
    "#Y_val = y[:2000]\n",
    "#partial_Y_train = y[2000:]\n",
    "\n",
    "print(\"X_train.shape: \", X_train_nn.shape)\n",
    "print(\"X_test.shape: \", X_test_nn.shape)\n",
    "print(\"y_train: \", y_train_nn.shape)\n",
    "print(\"y_test: \", y_test_nn.shape)\n",
    "y_test_nn"
   ]
  },
  {
   "cell_type": "code",
   "execution_count": 25,
   "metadata": {
    "collapsed": true
   },
   "outputs": [],
   "source": [
    "#Initializing Neural Network\n",
    "import keras\n",
    "from keras import models\n",
    "from keras import layers\n",
    "from keras.layers.core import Dense, Dropout, Activation, Flatten\n",
    "from keras.layers.embeddings import Embedding\n",
    "from keras.layers import GRU"
   ]
  },
  {
   "cell_type": "markdown",
   "metadata": {},
   "source": [
    "### Experimented with DNN, GRU and eventually settled with an Embedding Layer and outputting using a softmax function for this multiclass problem"
   ]
  },
  {
   "cell_type": "code",
   "execution_count": 35,
   "metadata": {
    "collapsed": true
   },
   "outputs": [],
   "source": [
    "import keras_metrics as km\n",
    "sc_precision = km.sparse_categorical_precision()\n",
    "sc_recall = km.sparse_categorical_recall()\n",
    "\n",
    "# build model\n",
    "EMBEDDING_DIM = 25 \n",
    "\n",
    "model = models.Sequential()\n",
    "\n",
    "#model.add(layers.Dense(1024, activation='relu',\n",
    "#                           input_shape=(X_train_nn.shape[1],)))\n",
    "#model.add(layers.Dense(512, activation='relu'))\n",
    "#model.add(layers.Dense(128, activation='sigmoid'))\n",
    "\n",
    "model.add(Embedding(10000, EMBEDDING_DIM, input_length=features_nn.shape[1]))\n",
    "model.add(Flatten())\n",
    "#model.add(GRU(units=32, dropout=0.2, recurrent_dropout = 0.2))\n",
    "#model.add(GRU(32, return_sequences=False))\n",
    "model.add(layers.Dense(4, activation='softmax')) # multiclass with 4 outputs \n"
   ]
  },
  {
   "cell_type": "code",
   "execution_count": null,
   "metadata": {
    "collapsed": true
   },
   "outputs": [],
   "source": [
    "# use two approaches for accuracy, precision-recall metrics \n",
    "\n",
    "# model.compile(optimizer = 'adam', loss='sparse_categorical_crossentropy', metrics=['acc'])\n",
    "model.compile(optimizer=\"adam\",\n",
    "              loss=\"sparse_categorical_crossentropy\",\n",
    "              metrics=[sc_precision, sc_recall])\n",
    "\n",
    "model.summary()"
   ]
  },
  {
   "cell_type": "code",
   "execution_count": 27,
   "metadata": {},
   "outputs": [
    {
     "name": "stdout",
     "output_type": "stream",
     "text": [
      "Train on 76196 samples, validate on 19049 samples\n",
      "Epoch 1/100\n",
      "76196/76196 [==============================] - 10s 135us/step - loss: 1.4578 - acc: 0.2725 - val_loss: 1.3691 - val_acc: 0.3908\n",
      "Epoch 2/100\n",
      "76196/76196 [==============================] - 9s 123us/step - loss: 1.3659 - acc: 0.3730 - val_loss: 1.3444 - val_acc: 0.3759\n",
      "Epoch 3/100\n",
      "76196/76196 [==============================] - 9s 118us/step - loss: 1.3225 - acc: 0.3985 - val_loss: 1.3002 - val_acc: 0.4035\n",
      "Epoch 4/100\n",
      "76196/76196 [==============================] - 9s 116us/step - loss: 1.2801 - acc: 0.4094 - val_loss: 1.2623 - val_acc: 0.4058\n",
      "Epoch 5/100\n",
      "76196/76196 [==============================] - 9s 117us/step - loss: 1.2444 - acc: 0.4177 - val_loss: 1.2315 - val_acc: 0.4300\n",
      "Epoch 6/100\n",
      "76196/76196 [==============================] - 9s 115us/step - loss: 1.2103 - acc: 0.4483 - val_loss: 1.1974 - val_acc: 0.4620\n",
      "Epoch 7/100\n",
      "76196/76196 [==============================] - 9s 116us/step - loss: 1.1758 - acc: 0.4799 - val_loss: 1.1650 - val_acc: 0.4957\n",
      "Epoch 8/100\n",
      "76196/76196 [==============================] - 9s 121us/step - loss: 1.1442 - acc: 0.5068 - val_loss: 1.1387 - val_acc: 0.5076\n",
      "Epoch 9/100\n",
      "76196/76196 [==============================] - 9s 119us/step - loss: 1.1184 - acc: 0.5196 - val_loss: 1.1168 - val_acc: 0.5198\n",
      "Epoch 10/100\n",
      "76196/76196 [==============================] - 9s 120us/step - loss: 1.0974 - acc: 0.5308 - val_loss: 1.1007 - val_acc: 0.5276\n",
      "Epoch 11/100\n",
      "76196/76196 [==============================] - 9s 118us/step - loss: 1.0805 - acc: 0.5363 - val_loss: 1.0862 - val_acc: 0.5334\n",
      "Epoch 12/100\n",
      "76196/76196 [==============================] - 9s 123us/step - loss: 1.0670 - acc: 0.5409 - val_loss: 1.0736 - val_acc: 0.5378\n",
      "Epoch 13/100\n",
      "76196/76196 [==============================] - 9s 118us/step - loss: 1.0552 - acc: 0.5461 - val_loss: 1.0628 - val_acc: 0.5418\n",
      "Epoch 14/100\n",
      "76196/76196 [==============================] - 9s 119us/step - loss: 1.0451 - acc: 0.5495 - val_loss: 1.0568 - val_acc: 0.5422\n",
      "Epoch 15/100\n",
      "76196/76196 [==============================] - 9s 121us/step - loss: 1.0364 - acc: 0.5532 - val_loss: 1.0504 - val_acc: 0.5479\n",
      "Epoch 16/100\n",
      "76196/76196 [==============================] - 9s 124us/step - loss: 1.0284 - acc: 0.5574 - val_loss: 1.0410 - val_acc: 0.5505\n",
      "Epoch 17/100\n",
      "76196/76196 [==============================] - 10s 125us/step - loss: 1.0203 - acc: 0.5603 - val_loss: 1.0345 - val_acc: 0.5504\n",
      "Epoch 18/100\n",
      "76196/76196 [==============================] - 9s 124us/step - loss: 1.0141 - acc: 0.5635 - val_loss: 1.0283 - val_acc: 0.5571\n",
      "Epoch 19/100\n",
      "76196/76196 [==============================] - 9s 121us/step - loss: 1.0091 - acc: 0.5664 - val_loss: 1.0236 - val_acc: 0.5618\n",
      "Epoch 20/100\n",
      "76196/76196 [==============================] - 9s 121us/step - loss: 1.0019 - acc: 0.5702 - val_loss: 1.0219 - val_acc: 0.5598\n",
      "Epoch 21/100\n",
      "76196/76196 [==============================] - 9s 120us/step - loss: 0.9982 - acc: 0.5718 - val_loss: 1.0168 - val_acc: 0.5590\n",
      "Epoch 22/100\n",
      "76196/76196 [==============================] - 9s 123us/step - loss: 0.9953 - acc: 0.5722 - val_loss: 1.0098 - val_acc: 0.5646\n",
      "Epoch 23/100\n",
      "76196/76196 [==============================] - 9s 118us/step - loss: 0.9887 - acc: 0.5774 - val_loss: 1.0094 - val_acc: 0.5673\n",
      "Epoch 24/100\n",
      "76196/76196 [==============================] - 9s 123us/step - loss: 0.9855 - acc: 0.5775 - val_loss: 1.0043 - val_acc: 0.5688\n",
      "Epoch 25/100\n",
      "76196/76196 [==============================] - 9s 123us/step - loss: 0.9801 - acc: 0.5807 - val_loss: 0.9997 - val_acc: 0.5718\n",
      "Epoch 26/100\n",
      "76196/76196 [==============================] - 10s 126us/step - loss: 0.9779 - acc: 0.5819 - val_loss: 0.9962 - val_acc: 0.5743\n",
      "Epoch 27/100\n",
      "76196/76196 [==============================] - 10s 127us/step - loss: 0.9747 - acc: 0.5836 - val_loss: 0.9941 - val_acc: 0.5760\n",
      "Epoch 28/100\n",
      "76196/76196 [==============================] - 9s 122us/step - loss: 0.9710 - acc: 0.5853 - val_loss: 0.9925 - val_acc: 0.5729\n",
      "Epoch 29/100\n",
      "76196/76196 [==============================] - 9s 115us/step - loss: 0.9678 - acc: 0.5874 - val_loss: 0.9886 - val_acc: 0.5765\n",
      "Epoch 30/100\n",
      "76196/76196 [==============================] - 9s 118us/step - loss: 0.9643 - acc: 0.5901 - val_loss: 0.9940 - val_acc: 0.5756\n",
      "Epoch 31/100\n",
      "76196/76196 [==============================] - 9s 123us/step - loss: 0.9655 - acc: 0.5874 - val_loss: 0.9846 - val_acc: 0.5775\n",
      "Epoch 32/100\n",
      "76196/76196 [==============================] - 9s 119us/step - loss: 0.9602 - acc: 0.5928 - val_loss: 0.9827 - val_acc: 0.5818\n",
      "Epoch 33/100\n",
      "76196/76196 [==============================] - 12s 151us/step - loss: 0.9586 - acc: 0.5924 - val_loss: 0.9802 - val_acc: 0.5839\n",
      "Epoch 34/100\n",
      "76196/76196 [==============================] - 10s 129us/step - loss: 0.9558 - acc: 0.5935 - val_loss: 0.9771 - val_acc: 0.5839\n",
      "Epoch 35/100\n",
      "76196/76196 [==============================] - 9s 118us/step - loss: 0.9518 - acc: 0.5958 - val_loss: 0.9781 - val_acc: 0.5807\n",
      "Epoch 36/100\n",
      "76196/76196 [==============================] - 9s 123us/step - loss: 0.9502 - acc: 0.5968 - val_loss: 0.9754 - val_acc: 0.5839\n",
      "Epoch 37/100\n",
      "76196/76196 [==============================] - 10s 127us/step - loss: 0.9493 - acc: 0.5979 - val_loss: 0.9720 - val_acc: 0.5863\n",
      "Epoch 38/100\n",
      "76196/76196 [==============================] - 9s 124us/step - loss: 0.9460 - acc: 0.5983 - val_loss: 0.9716 - val_acc: 0.5837\n",
      "Epoch 39/100\n",
      "76196/76196 [==============================] - 9s 117us/step - loss: 0.9451 - acc: 0.5979 - val_loss: 0.9675 - val_acc: 0.5874\n",
      "Epoch 40/100\n",
      "76196/76196 [==============================] - 9s 121us/step - loss: 0.9426 - acc: 0.5997 - val_loss: 0.9665 - val_acc: 0.5860\n",
      "Epoch 41/100\n",
      "76196/76196 [==============================] - 9s 121us/step - loss: 0.9405 - acc: 0.6008 - val_loss: 0.9643 - val_acc: 0.5885\n",
      "Epoch 42/100\n",
      "76196/76196 [==============================] - 9s 123us/step - loss: 0.9387 - acc: 0.6026 - val_loss: 0.9642 - val_acc: 0.5875\n",
      "Epoch 43/100\n",
      "76196/76196 [==============================] - 9s 122us/step - loss: 0.9385 - acc: 0.6019 - val_loss: 0.9626 - val_acc: 0.5912\n",
      "Epoch 44/100\n",
      "76196/76196 [==============================] - 10s 127us/step - loss: 0.9345 - acc: 0.6037 - val_loss: 0.9611 - val_acc: 0.5898\n",
      "Epoch 45/100\n",
      "76196/76196 [==============================] - 9s 122us/step - loss: 0.9329 - acc: 0.6057 - val_loss: 0.9603 - val_acc: 0.5928\n",
      "Epoch 46/100\n",
      "76196/76196 [==============================] - 9s 121us/step - loss: 0.9331 - acc: 0.6040 - val_loss: 0.9618 - val_acc: 0.5848\n",
      "Epoch 47/100\n",
      "76196/76196 [==============================] - 9s 118us/step - loss: 0.9315 - acc: 0.6044 - val_loss: 0.9572 - val_acc: 0.5901\n",
      "Epoch 48/100\n",
      "76196/76196 [==============================] - 9s 120us/step - loss: 0.9288 - acc: 0.6052 - val_loss: 0.9548 - val_acc: 0.5917\n",
      "Epoch 49/100\n",
      "76196/76196 [==============================] - 9s 119us/step - loss: 0.9266 - acc: 0.6059 - val_loss: 0.9543 - val_acc: 0.5905\n",
      "Epoch 50/100\n",
      "76196/76196 [==============================] - 10s 127us/step - loss: 0.9256 - acc: 0.6063 - val_loss: 0.9529 - val_acc: 0.5896\n",
      "Epoch 51/100\n",
      "76196/76196 [==============================] - 9s 119us/step - loss: 0.9247 - acc: 0.6073 - val_loss: 0.9522 - val_acc: 0.5938\n",
      "Epoch 52/100\n",
      "76196/76196 [==============================] - 9s 116us/step - loss: 0.9226 - acc: 0.6101 - val_loss: 0.9505 - val_acc: 0.5897\n",
      "Epoch 53/100\n",
      "76196/76196 [==============================] - 9s 118us/step - loss: 0.9213 - acc: 0.6082 - val_loss: 0.9496 - val_acc: 0.5942\n",
      "Epoch 54/100\n",
      "76196/76196 [==============================] - 9s 115us/step - loss: 0.9203 - acc: 0.6089 - val_loss: 0.9507 - val_acc: 0.5951\n",
      "Epoch 55/100\n",
      "76196/76196 [==============================] - 9s 121us/step - loss: 0.9194 - acc: 0.6093 - val_loss: 0.9498 - val_acc: 0.5949\n",
      "Epoch 56/100\n",
      "76196/76196 [==============================] - 9s 120us/step - loss: 0.9188 - acc: 0.6106 - val_loss: 0.9463 - val_acc: 0.5957\n",
      "Epoch 57/100\n",
      "76196/76196 [==============================] - 9s 117us/step - loss: 0.9163 - acc: 0.6108 - val_loss: 0.9456 - val_acc: 0.5960\n",
      "Epoch 58/100\n",
      "76196/76196 [==============================] - 9s 118us/step - loss: 0.9157 - acc: 0.6112 - val_loss: 0.9447 - val_acc: 0.5962\n",
      "Epoch 59/100\n",
      "76196/76196 [==============================] - 9s 116us/step - loss: 0.9142 - acc: 0.6109 - val_loss: 0.9459 - val_acc: 0.5923\n",
      "Epoch 60/100\n",
      "76196/76196 [==============================] - 9s 118us/step - loss: 0.9139 - acc: 0.6132 - val_loss: 0.9442 - val_acc: 0.5927\n",
      "Epoch 61/100\n",
      "76196/76196 [==============================] - 9s 118us/step - loss: 0.9121 - acc: 0.6119 - val_loss: 0.9428 - val_acc: 0.5923\n",
      "Epoch 62/100\n",
      "76196/76196 [==============================] - 9s 116us/step - loss: 0.9119 - acc: 0.6121 - val_loss: 0.9406 - val_acc: 0.5914\n",
      "Epoch 63/100\n",
      "76196/76196 [==============================] - 9s 119us/step - loss: 0.9092 - acc: 0.6121 - val_loss: 0.9421 - val_acc: 0.5991\n",
      "Epoch 64/100\n",
      "76196/76196 [==============================] - 9s 120us/step - loss: 0.9091 - acc: 0.6136 - val_loss: 0.9393 - val_acc: 0.6012\n",
      "Epoch 65/100\n",
      "76196/76196 [==============================] - 9s 118us/step - loss: 0.9077 - acc: 0.6132 - val_loss: 0.9395 - val_acc: 0.5999\n",
      "Epoch 66/100\n",
      "76196/76196 [==============================] - 9s 118us/step - loss: 0.9065 - acc: 0.6138 - val_loss: 0.9406 - val_acc: 0.5988\n",
      "Epoch 67/100\n",
      "76196/76196 [==============================] - 9s 116us/step - loss: 0.9068 - acc: 0.6127 - val_loss: 0.9375 - val_acc: 0.5987\n",
      "Epoch 68/100\n",
      "76196/76196 [==============================] - 9s 117us/step - loss: 0.9049 - acc: 0.6141 - val_loss: 0.9346 - val_acc: 0.6008\n",
      "Epoch 69/100\n",
      "76196/76196 [==============================] - 9s 116us/step - loss: 0.9033 - acc: 0.6156 - val_loss: 0.9363 - val_acc: 0.5938\n",
      "Epoch 70/100\n",
      "76196/76196 [==============================] - 9s 119us/step - loss: 0.9038 - acc: 0.6138 - val_loss: 0.9366 - val_acc: 0.6001\n",
      "Epoch 71/100\n",
      "76196/76196 [==============================] - 10s 125us/step - loss: 0.9029 - acc: 0.6145 - val_loss: 0.9351 - val_acc: 0.6038\n",
      "Epoch 72/100\n",
      "76196/76196 [==============================] - 9s 116us/step - loss: 0.9011 - acc: 0.6171 - val_loss: 0.9324 - val_acc: 0.5976\n",
      "Epoch 73/100\n",
      "76196/76196 [==============================] - 9s 118us/step - loss: 0.8996 - acc: 0.6164 - val_loss: 0.9331 - val_acc: 0.6022\n",
      "Epoch 74/100\n",
      "76196/76196 [==============================] - 9s 121us/step - loss: 0.9001 - acc: 0.6156 - val_loss: 0.9325 - val_acc: 0.5971\n",
      "Epoch 75/100\n",
      "76196/76196 [==============================] - 10s 125us/step - loss: 0.8986 - acc: 0.6165 - val_loss: 0.9317 - val_acc: 0.5968\n",
      "Epoch 76/100\n",
      "76196/76196 [==============================] - 9s 121us/step - loss: 0.8982 - acc: 0.6170 - val_loss: 0.9309 - val_acc: 0.5988\n",
      "Epoch 77/100\n",
      "76196/76196 [==============================] - 9s 124us/step - loss: 0.8975 - acc: 0.6171 - val_loss: 0.9310 - val_acc: 0.6023\n",
      "Epoch 78/100\n",
      "76196/76196 [==============================] - 9s 116us/step - loss: 0.8968 - acc: 0.6184 - val_loss: 0.9292 - val_acc: 0.5977\n",
      "Epoch 79/100\n",
      "76196/76196 [==============================] - 12s 159us/step - loss: 0.8964 - acc: 0.6177 - val_loss: 0.9294 - val_acc: 0.6029\n",
      "Epoch 80/100\n",
      "76196/76196 [==============================] - 9s 115us/step - loss: 0.8949 - acc: 0.6179 - val_loss: 0.9301 - val_acc: 0.6034\n",
      "Epoch 81/100\n",
      "76196/76196 [==============================] - 9s 121us/step - loss: 0.8944 - acc: 0.6191 - val_loss: 0.9290 - val_acc: 0.6019\n",
      "Epoch 82/100\n",
      "76196/76196 [==============================] - 9s 123us/step - loss: 0.8943 - acc: 0.6182 - val_loss: 0.9287 - val_acc: 0.6033\n",
      "Epoch 83/100\n",
      "76196/76196 [==============================] - 11s 144us/step - loss: 0.8931 - acc: 0.6178 - val_loss: 0.9273 - val_acc: 0.6025\n",
      "Epoch 84/100\n",
      "76196/76196 [==============================] - 10s 137us/step - loss: 0.8927 - acc: 0.6184 - val_loss: 0.9271 - val_acc: 0.6021\n",
      "Epoch 85/100\n",
      "76196/76196 [==============================] - 10s 126us/step - loss: 0.8924 - acc: 0.6182 - val_loss: 0.9253 - val_acc: 0.6022\n",
      "Epoch 86/100\n",
      "76196/76196 [==============================] - 11s 139us/step - loss: 0.8906 - acc: 0.6201 - val_loss: 0.9252 - val_acc: 0.6017\n",
      "Epoch 87/100\n",
      "76196/76196 [==============================] - 11s 140us/step - loss: 0.8896 - acc: 0.6197 - val_loss: 0.9249 - val_acc: 0.6038\n",
      "Epoch 88/100\n",
      "76196/76196 [==============================] - 10s 125us/step - loss: 0.8898 - acc: 0.6195 - val_loss: 0.9240 - val_acc: 0.6038\n",
      "Epoch 89/100\n",
      "76196/76196 [==============================] - 9s 122us/step - loss: 0.8891 - acc: 0.6203 - val_loss: 0.9251 - val_acc: 0.6032\n",
      "Epoch 90/100\n",
      "76196/76196 [==============================] - 9s 120us/step - loss: 0.8885 - acc: 0.6208 - val_loss: 0.9234 - val_acc: 0.6032\n",
      "Epoch 91/100\n",
      "76196/76196 [==============================] - 9s 120us/step - loss: 0.8878 - acc: 0.6203 - val_loss: 0.9232 - val_acc: 0.6029\n",
      "Epoch 92/100\n",
      "76196/76196 [==============================] - 9s 120us/step - loss: 0.8872 - acc: 0.6190 - val_loss: 0.9239 - val_acc: 0.6012\n",
      "Epoch 93/100\n",
      "76196/76196 [==============================] - 9s 119us/step - loss: 0.8870 - acc: 0.6208 - val_loss: 0.9214 - val_acc: 0.6039\n",
      "Epoch 94/100\n",
      "76196/76196 [==============================] - 9s 117us/step - loss: 0.8859 - acc: 0.6206 - val_loss: 0.9222 - val_acc: 0.6033\n",
      "Epoch 95/100\n",
      "76196/76196 [==============================] - 9s 115us/step - loss: 0.8860 - acc: 0.6197 - val_loss: 0.9269 - val_acc: 0.6016\n",
      "Epoch 96/100\n",
      "76196/76196 [==============================] - 9s 119us/step - loss: 0.8862 - acc: 0.6197 - val_loss: 0.9213 - val_acc: 0.6044\n",
      "Epoch 97/100\n",
      "76196/76196 [==============================] - 9s 117us/step - loss: 0.8845 - acc: 0.6210 - val_loss: 0.9212 - val_acc: 0.6024\n",
      "Epoch 98/100\n",
      "76196/76196 [==============================] - 9s 116us/step - loss: 0.8846 - acc: 0.6207 - val_loss: 0.9202 - val_acc: 0.6033\n",
      "Epoch 99/100\n",
      "76196/76196 [==============================] - 9s 115us/step - loss: 0.8842 - acc: 0.6212 - val_loss: 0.9201 - val_acc: 0.6019\n",
      "Epoch 100/100\n",
      "76196/76196 [==============================] - 9s 114us/step - loss: 0.8832 - acc: 0.6203 - val_loss: 0.9209 - val_acc: 0.6031\n",
      "dict for history:  dict_keys(['val_loss', 'val_acc', 'loss', 'acc'])\n"
     ]
    }
   ],
   "source": [
    "#Fitting the model\n",
    "# Typically we choose epochs * batch_size >= total_params \n",
    "\n",
    "from keras.callbacks import History \n",
    "\n",
    "history = model.fit(X_train_nn,\n",
    "                    y_train_nn,\n",
    "                    epochs=100,\n",
    "                    batch_size=5000,\n",
    "                    validation_data=(X_test_nn, y_test_nn))\n",
    "\n",
    "print(\"dict for history: \", history.history.keys())"
   ]
  },
  {
   "cell_type": "markdown",
   "metadata": {},
   "source": [
    "### Training and validation loss"
   ]
  },
  {
   "cell_type": "code",
   "execution_count": 28,
   "metadata": {},
   "outputs": [
    {
     "name": "stdout",
     "output_type": "stream",
     "text": [
      "range(1, 101)\n"
     ]
    },
    {
     "data": {
      "image/png": "[encoded data removed]",
      "text/plain": [
       "<Figure size 640x480 with 1 Axes>"
      ]
     },
     "metadata": {},
     "output_type": "display_data"
    }
   ],
   "source": [
    "import matplotlib.pyplot as plt\n",
    "\n",
    "acc = history.history['acc']\n",
    "val_acc = history.history['val_acc']\n",
    "\n",
    "loss = history.history['loss']\n",
    "val_loss = history.history['val_loss']\n",
    "\n",
    "#prec = history.history['precision']\n",
    "#val_prec = history.history['val_precision']\n",
    "\n",
    "#recall = history.history['recall']\n",
    "#val_recall = history.history['val_recall']\n",
    "\n",
    "epochs = range(1, len(acc) + 1)\n",
    "print(epochs)\n",
    "\n",
    "# \"bo\" is for \"blue dot\"\n",
    "plt.plot(epochs, loss, 'bo', label='Training loss')\n",
    "# b is for \"solid blue line\"\n",
    "plt.plot(epochs, val_loss, 'b', label='Validation loss')\n",
    "plt.title('Training and validation loss')\n",
    "plt.xlabel('Epochs')\n",
    "plt.ylabel('Loss')\n",
    "plt.legend()\n",
    "\n",
    "plt.show()"
   ]
  },
  {
   "cell_type": "code",
   "execution_count": 34,
   "metadata": {},
   "outputs": [
    {
     "data": {
      "image/png": "[encoded data removed]",
      "text/plain": [
       "<Figure size 640x480 with 1 Axes>"
      ]
     },
     "metadata": {},
     "output_type": "display_data"
    }
   ],
   "source": [
    "#history_dict = history.history\n",
    "plt.clf()   # clear figure\n",
    "#plt.plot(epochs, mae, 'bo', label='Training mae')\n",
    "#plt.plot(epochs, val_mae, 'b', label='Validation mae')\n",
    "plt.plot(epochs, acc, 'bo', label='Training Accuracy')\n",
    "plt.plot(epochs, val_acc, 'b', label='Validation Accuracy')\n",
    "#plt.plot(epochs, rsq, 'bo', label='Training R-Square')\n",
    "#plt.plot(epochs, val_rsq, 'b', label='Validation R-Square')\n",
    "\n",
    "#plt.plot(epochs, prec, 'bo', label='Training Precision')\n",
    "#plt.plot(epochs, val_prec, 'b', label='Validation Precision')\n",
    "\n",
    "#plt.plot(epochs, recall, 'bo', label='Training Recall')\n",
    "#plt.plot(epochs, val_recall, 'b', label='Validation Recall')\n",
    "\n",
    "plt.title('Accuracy')\n",
    "plt.xlabel('Epochs')\n",
    "plt.ylabel('acc')\n",
    "plt.legend(loc='lower right')\n",
    "\n",
    "plt.show()"
   ]
  },
  {
   "cell_type": "code",
   "execution_count": 39,
   "metadata": {
    "collapsed": true
   },
   "outputs": [],
   "source": [
    "import keras_metrics as km\n",
    "sc_precision = km.sparse_categorical_precision()\n",
    "sc_recall = km.sparse_categorical_recall()\n",
    "\n",
    "# build model\n",
    "EMBEDDING_DIM = 25 \n",
    "\n",
    "model = models.Sequential()\n",
    "\n",
    "#model.add(layers.Dense(1024, activation='relu',\n",
    "#                           input_shape=(X_train_nn.shape[1],)))\n",
    "#model.add(layers.Dense(512, activation='relu'))\n",
    "#model.add(layers.Dense(128, activation='sigmoid'))\n",
    "\n",
    "model.add(Embedding(10000, EMBEDDING_DIM, input_length=features_nn.shape[1]))\n",
    "model.add(Flatten())\n",
    "#model.add(GRU(units=32, dropout=0.2, recurrent_dropout = 0.2))\n",
    "#model.add(GRU(32, return_sequences=False))\n",
    "model.add(layers.Dense(4, activation='softmax')) # multiclass with 4 outputs \n"
   ]
  },
  {
   "cell_type": "code",
   "execution_count": 40,
   "metadata": {},
   "outputs": [
    {
     "name": "stdout",
     "output_type": "stream",
     "text": [
      "_________________________________________________________________\n",
      "Layer (type)                 Output Shape              Param #   \n",
      "=================================================================\n",
      "embedding_3 (Embedding)      (None, 1351, 25)          250000    \n",
      "_________________________________________________________________\n",
      "flatten_3 (Flatten)          (None, 33775)             0         \n",
      "_________________________________________________________________\n",
      "dense_3 (Dense)              (None, 4)                 135104    \n",
      "=================================================================\n",
      "Total params: 385,104\n",
      "Trainable params: 385,104\n",
      "Non-trainable params: 0\n",
      "_________________________________________________________________\n"
     ]
    }
   ],
   "source": [
    "# using precision reacll metrics\n",
    "# use two approaches for accuracy, precision-recall metrics \n",
    "\n",
    "# model.compile(optimizer = 'adam', loss='sparse_categorical_crossentropy', metrics=['acc'])\n",
    "model.compile(optimizer=\"adam\",\n",
    "              loss=\"sparse_categorical_crossentropy\",\n",
    "              metrics=[sc_precision, sc_recall])\n",
    "\n",
    "model.summary()"
   ]
  },
  {
   "cell_type": "code",
   "execution_count": 41,
   "metadata": {},
   "outputs": [
    {
     "name": "stdout",
     "output_type": "stream",
     "text": [
      "Train on 76196 samples, validate on 19049 samples\n",
      "Epoch 1/100\n",
      "76196/76196 [==============================] - 9s 119us/step - loss: 1.4356 - precision: 0.0000e+00 - recall: 0.0000e+00 - val_loss: 1.3967 - val_precision: 0.0000e+00 - val_recall: 0.0000e+00\n",
      "Epoch 2/100\n",
      "76196/76196 [==============================] - 9s 121us/step - loss: 1.3672 - precision: 0.0000e+00 - recall: 0.0000e+00 - val_loss: 1.3477 - val_precision: 0.0000e+00 - val_recall: 0.0000e+00\n",
      "Epoch 3/100\n",
      "76196/76196 [==============================] - 12s 154us/step - loss: 1.3284 - precision: 0.0000e+00 - recall: 0.0000e+00 - val_loss: 1.3064 - val_precision: 0.0000e+00 - val_recall: 0.0000e+00\n",
      "Epoch 4/100\n",
      "76196/76196 [==============================] - 9s 117us/step - loss: 1.2873 - precision: 0.6891 - recall: 0.0813 - val_loss: 1.2694 - val_precision: 0.6367 - val_recall: 0.2378\n",
      "Epoch 5/100\n",
      "76196/76196 [==============================] - 10s 128us/step - loss: 1.2528 - precision: 0.6055 - recall: 0.2359 - val_loss: 1.2371 - val_precision: 0.6602 - val_recall: 0.2343\n",
      "Epoch 6/100\n",
      "76196/76196 [==============================] - 10s 126us/step - loss: 1.2173 - precision: 0.6537 - recall: 0.2299 - val_loss: 1.2031 - val_precision: 0.6689 - val_recall: 0.2301\n",
      "Epoch 7/100\n",
      "76196/76196 [==============================] - 9s 114us/step - loss: 1.1826 - precision: 0.7047 - recall: 0.2130 - val_loss: 1.1712 - val_precision: 0.7003 - val_recall: 0.2303\n",
      "Epoch 8/100\n",
      "76196/76196 [==============================] - 9s 117us/step - loss: 1.1510 - precision: 0.7253 - recall: 0.2285 - val_loss: 1.1441 - val_precision: 0.7529 - val_recall: 0.2423\n",
      "Epoch 9/100\n",
      "76196/76196 [==============================] - 9s 116us/step - loss: 1.1241 - precision: 0.7391 - recall: 0.2660 - val_loss: 1.1239 - val_precision: 0.7572 - val_recall: 0.2707\n",
      "Epoch 10/100\n",
      "76196/76196 [==============================] - 9s 121us/step - loss: 1.1043 - precision: 0.7484 - recall: 0.3054 - val_loss: 1.1050 - val_precision: 0.7777 - val_recall: 0.2898\n",
      "Epoch 11/100\n",
      "76196/76196 [==============================] - 9s 124us/step - loss: 1.0857 - precision: 0.7455 - recall: 0.3370 - val_loss: 1.0920 - val_precision: 0.7670 - val_recall: 0.3231\n",
      "Epoch 12/100\n",
      "76196/76196 [==============================] - 11s 148us/step - loss: 1.0719 - precision: 0.7532 - recall: 0.3599 - val_loss: 1.0765 - val_precision: 0.7729 - val_recall: 0.3476\n",
      "Epoch 13/100\n",
      "76196/76196 [==============================] - 11s 141us/step - loss: 1.0599 - precision: 0.7635 - recall: 0.3784 - val_loss: 1.0673 - val_precision: 0.7795 - val_recall: 0.3631\n",
      "Epoch 14/100\n",
      "76196/76196 [==============================] - 9s 122us/step - loss: 1.0510 - precision: 0.7601 - recall: 0.3955 - val_loss: 1.0584 - val_precision: 0.7978 - val_recall: 0.3523\n",
      "Epoch 15/100\n",
      "76196/76196 [==============================] - 10s 130us/step - loss: 1.0396 - precision: 0.7763 - recall: 0.3996 - val_loss: 1.0495 - val_precision: 0.7314 - val_recall: 0.4292\n",
      "Epoch 16/100\n",
      "76196/76196 [==============================] - 13s 177us/step - loss: 1.0314 - precision: 0.7737 - recall: 0.4117 - val_loss: 1.0430 - val_precision: 0.7887 - val_recall: 0.3913\n",
      "Epoch 17/100\n",
      "76196/76196 [==============================] - 10s 127us/step - loss: 1.0245 - precision: 0.7859 - recall: 0.4131 - val_loss: 1.0401 - val_precision: 0.7980 - val_recall: 0.3894\n",
      "Epoch 18/100\n",
      "76196/76196 [==============================] - 10s 131us/step - loss: 1.0194 - precision: 0.7868 - recall: 0.4191 - val_loss: 1.0301 - val_precision: 0.7524 - val_recall: 0.4437\n",
      "Epoch 19/100\n",
      "76196/76196 [==============================] - 15s 203us/step - loss: 1.0106 - precision: 0.7820 - recall: 0.4277 - val_loss: 1.0276 - val_precision: 0.7685 - val_recall: 0.4312\n",
      "Epoch 20/100\n",
      "76196/76196 [==============================] - 10s 134us/step - loss: 1.0059 - precision: 0.7847 - recall: 0.4329 - val_loss: 1.0207 - val_precision: 0.7914 - val_recall: 0.4132\n",
      "Epoch 21/100\n",
      "76196/76196 [==============================] - 10s 132us/step - loss: 1.0010 - precision: 0.7848 - recall: 0.4404 - val_loss: 1.0193 - val_precision: 0.7212 - val_recall: 0.5155\n",
      "Epoch 22/100\n",
      "76196/76196 [==============================] - 10s 132us/step - loss: 0.9954 - precision: 0.7792 - recall: 0.4511 - val_loss: 1.0138 - val_precision: 0.7499 - val_recall: 0.4814\n",
      "Epoch 23/100\n",
      "76196/76196 [==============================] - 9s 117us/step - loss: 0.9912 - precision: 0.7823 - recall: 0.4534 - val_loss: 1.0066 - val_precision: 0.7588 - val_recall: 0.4797\n",
      "Epoch 24/100\n",
      "76196/76196 [==============================] - 9s 124us/step - loss: 0.9867 - precision: 0.7869 - recall: 0.4563 - val_loss: 1.0074 - val_precision: 0.7439 - val_recall: 0.5041\n",
      "Epoch 25/100\n",
      "76196/76196 [==============================] - 9s 117us/step - loss: 0.9840 - precision: 0.7820 - recall: 0.4643 - val_loss: 1.0019 - val_precision: 0.7978 - val_recall: 0.4136\n",
      "Epoch 26/100\n",
      "76196/76196 [==============================] - 9s 116us/step - loss: 0.9804 - precision: 0.7807 - recall: 0.4700 - val_loss: 1.0040 - val_precision: 0.7739 - val_recall: 0.4538\n",
      "Epoch 27/100\n",
      "76196/76196 [==============================] - 9s 117us/step - loss: 0.9778 - precision: 0.7863 - recall: 0.4669 - val_loss: 1.0031 - val_precision: 0.7288 - val_recall: 0.5427\n",
      "Epoch 28/100\n",
      "76196/76196 [==============================] - 9s 121us/step - loss: 0.9735 - precision: 0.7807 - recall: 0.4818 - val_loss: 0.9910 - val_precision: 0.7725 - val_recall: 0.4677\n",
      "Epoch 29/100\n",
      "76196/76196 [==============================] - 10s 132us/step - loss: 0.9688 - precision: 0.7851 - recall: 0.4816 - val_loss: 0.9892 - val_precision: 0.7587 - val_recall: 0.5035\n",
      "Epoch 30/100\n",
      "76196/76196 [==============================] - 9s 123us/step - loss: 0.9661 - precision: 0.7824 - recall: 0.4884 - val_loss: 0.9908 - val_precision: 0.8136 - val_recall: 0.4041\n",
      "Epoch 31/100\n",
      "76196/76196 [==============================] - 10s 137us/step - loss: 0.9636 - precision: 0.7819 - recall: 0.4895 - val_loss: 0.9869 - val_precision: 0.7998 - val_recall: 0.4385\n",
      "Epoch 32/100\n",
      "76196/76196 [==============================] - 10s 136us/step - loss: 0.9624 - precision: 0.7841 - recall: 0.4875 - val_loss: 0.9834 - val_precision: 0.7846 - val_recall: 0.4588\n",
      "Epoch 33/100\n",
      "76196/76196 [==============================] - 9s 118us/step - loss: 0.9588 - precision: 0.7877 - recall: 0.4945 - val_loss: 0.9806 - val_precision: 0.7629 - val_recall: 0.5025\n",
      "Epoch 34/100\n",
      "76196/76196 [==============================] - 9s 117us/step - loss: 0.9544 - precision: 0.7858 - recall: 0.4998 - val_loss: 0.9801 - val_precision: 0.7709 - val_recall: 0.4936\n",
      "Epoch 35/100\n",
      "76196/76196 [==============================] - 9s 121us/step - loss: 0.9533 - precision: 0.7828 - recall: 0.5035 - val_loss: 0.9768 - val_precision: 0.7821 - val_recall: 0.4809\n",
      "Epoch 36/100\n",
      "76196/76196 [==============================] - 9s 120us/step - loss: 0.9512 - precision: 0.7837 - recall: 0.5023 - val_loss: 0.9759 - val_precision: 0.7720 - val_recall: 0.4909\n",
      "Epoch 37/100\n",
      "76196/76196 [==============================] - 9s 124us/step - loss: 0.9489 - precision: 0.7822 - recall: 0.5089 - val_loss: 0.9713 - val_precision: 0.7640 - val_recall: 0.5062\n",
      "Epoch 38/100\n",
      "76196/76196 [==============================] - 9s 123us/step - loss: 0.9470 - precision: 0.7821 - recall: 0.5064 - val_loss: 0.9712 - val_precision: 0.7556 - val_recall: 0.5207\n",
      "Epoch 39/100\n",
      "76196/76196 [==============================] - 10s 130us/step - loss: 0.9466 - precision: 0.7805 - recall: 0.5177 - val_loss: 0.9697 - val_precision: 0.7733 - val_recall: 0.4888\n",
      "Epoch 40/100\n",
      "76196/76196 [==============================] - 10s 133us/step - loss: 0.9445 - precision: 0.7835 - recall: 0.5154 - val_loss: 0.9672 - val_precision: 0.7715 - val_recall: 0.5043\n",
      "Epoch 41/100\n",
      "76196/76196 [==============================] - 9s 121us/step - loss: 0.9424 - precision: 0.7873 - recall: 0.5122 - val_loss: 0.9661 - val_precision: 0.7727 - val_recall: 0.4992\n",
      "Epoch 42/100\n",
      "76196/76196 [==============================] - 9s 119us/step - loss: 0.9389 - precision: 0.7818 - recall: 0.5183 - val_loss: 0.9656 - val_precision: 0.7400 - val_recall: 0.5518\n",
      "Epoch 43/100\n",
      "76196/76196 [==============================] - 9s 122us/step - loss: 0.9367 - precision: 0.7837 - recall: 0.5252 - val_loss: 0.9623 - val_precision: 0.7718 - val_recall: 0.5085\n",
      "Epoch 44/100\n",
      "76196/76196 [==============================] - 10s 133us/step - loss: 0.9350 - precision: 0.7833 - recall: 0.5239 - val_loss: 0.9618 - val_precision: 0.7638 - val_recall: 0.5151\n",
      "Epoch 45/100\n",
      "76196/76196 [==============================] - 10s 130us/step - loss: 0.9337 - precision: 0.7840 - recall: 0.5249 - val_loss: 0.9660 - val_precision: 0.7535 - val_recall: 0.5350\n",
      "Epoch 46/100\n",
      "76196/76196 [==============================] - 9s 122us/step - loss: 0.9333 - precision: 0.7873 - recall: 0.5283 - val_loss: 0.9584 - val_precision: 0.7516 - val_recall: 0.5371\n",
      "Epoch 47/100\n",
      "76196/76196 [==============================] - 9s 121us/step - loss: 0.9298 - precision: 0.7858 - recall: 0.5264 - val_loss: 0.9569 - val_precision: 0.7759 - val_recall: 0.5027\n",
      "Epoch 48/100\n",
      "76196/76196 [==============================] - 9s 124us/step - loss: 0.9285 - precision: 0.7881 - recall: 0.5321 - val_loss: 0.9555 - val_precision: 0.7845 - val_recall: 0.4977\n",
      "Epoch 49/100\n",
      "76196/76196 [==============================] - 9s 120us/step - loss: 0.9269 - precision: 0.7817 - recall: 0.5364 - val_loss: 0.9547 - val_precision: 0.7864 - val_recall: 0.4905\n",
      "Epoch 50/100\n",
      "76196/76196 [==============================] - 9s 121us/step - loss: 0.9263 - precision: 0.7830 - recall: 0.5322 - val_loss: 0.9542 - val_precision: 0.7480 - val_recall: 0.5522\n",
      "Epoch 51/100\n",
      "76196/76196 [==============================] - 10s 131us/step - loss: 0.9241 - precision: 0.7855 - recall: 0.5344 - val_loss: 0.9520 - val_precision: 0.7558 - val_recall: 0.5263\n",
      "Epoch 52/100\n",
      "76196/76196 [==============================] - 9s 120us/step - loss: 0.9228 - precision: 0.7836 - recall: 0.5334 - val_loss: 0.9511 - val_precision: 0.7591 - val_recall: 0.5249\n",
      "Epoch 53/100\n",
      "76196/76196 [==============================] - 9s 124us/step - loss: 0.9206 - precision: 0.7839 - recall: 0.5374 - val_loss: 0.9529 - val_precision: 0.8012 - val_recall: 0.4801\n",
      "Epoch 54/100\n",
      "76196/76196 [==============================] - 9s 122us/step - loss: 0.9200 - precision: 0.7885 - recall: 0.5340 - val_loss: 0.9482 - val_precision: 0.7626 - val_recall: 0.5315\n",
      "Epoch 55/100\n",
      "76196/76196 [==============================] - 9s 119us/step - loss: 0.9187 - precision: 0.7815 - recall: 0.5408 - val_loss: 0.9474 - val_precision: 0.7703 - val_recall: 0.5099\n",
      "Epoch 56/100\n",
      "76196/76196 [==============================] - 9s 120us/step - loss: 0.9173 - precision: 0.7825 - recall: 0.5402 - val_loss: 0.9482 - val_precision: 0.7801 - val_recall: 0.5027\n",
      "Epoch 57/100\n",
      "76196/76196 [==============================] - 9s 118us/step - loss: 0.9168 - precision: 0.7830 - recall: 0.5434 - val_loss: 0.9470 - val_precision: 0.7620 - val_recall: 0.5346\n",
      "Epoch 58/100\n",
      "76196/76196 [==============================] - 9s 121us/step - loss: 0.9155 - precision: 0.7884 - recall: 0.5384 - val_loss: 0.9443 - val_precision: 0.7585 - val_recall: 0.5340\n",
      "Epoch 59/100\n",
      "76196/76196 [==============================] - 9s 120us/step - loss: 0.9139 - precision: 0.7849 - recall: 0.5502 - val_loss: 0.9451 - val_precision: 0.7651 - val_recall: 0.5323\n",
      "Epoch 60/100\n",
      "76196/76196 [==============================] - 9s 121us/step - loss: 0.9130 - precision: 0.7870 - recall: 0.5437 - val_loss: 0.9435 - val_precision: 0.7507 - val_recall: 0.5507\n",
      "Epoch 61/100\n",
      "76196/76196 [==============================] - 9s 120us/step - loss: 0.9124 - precision: 0.7811 - recall: 0.5500 - val_loss: 0.9458 - val_precision: 0.8097 - val_recall: 0.4776\n",
      "Epoch 62/100\n",
      "76196/76196 [==============================] - 9s 118us/step - loss: 0.9106 - precision: 0.7870 - recall: 0.5463 - val_loss: 0.9409 - val_precision: 0.7749 - val_recall: 0.5228\n",
      "Epoch 63/100\n",
      "76196/76196 [==============================] - 9s 123us/step - loss: 0.9096 - precision: 0.7834 - recall: 0.5495 - val_loss: 0.9400 - val_precision: 0.7739 - val_recall: 0.5188\n",
      "Epoch 64/100\n",
      "76196/76196 [==============================] - 9s 120us/step - loss: 0.9088 - precision: 0.7889 - recall: 0.5470 - val_loss: 0.9394 - val_precision: 0.7495 - val_recall: 0.5565\n",
      "Epoch 65/100\n",
      "76196/76196 [==============================] - 9s 121us/step - loss: 0.9077 - precision: 0.7867 - recall: 0.5492 - val_loss: 0.9391 - val_precision: 0.7465 - val_recall: 0.5648\n",
      "Epoch 66/100\n",
      "76196/76196 [==============================] - 9s 122us/step - loss: 0.9070 - precision: 0.7866 - recall: 0.5497 - val_loss: 0.9380 - val_precision: 0.7504 - val_recall: 0.5592\n",
      "Epoch 67/100\n",
      "76196/76196 [==============================] - 9s 121us/step - loss: 0.9060 - precision: 0.7908 - recall: 0.5508 - val_loss: 0.9362 - val_precision: 0.7621 - val_recall: 0.5420\n",
      "Epoch 68/100\n",
      "76196/76196 [==============================] - 10s 136us/step - loss: 0.9050 - precision: 0.7872 - recall: 0.5511 - val_loss: 0.9356 - val_precision: 0.7709 - val_recall: 0.5319\n",
      "Epoch 69/100\n",
      "76196/76196 [==============================] - 9s 119us/step - loss: 0.9033 - precision: 0.7893 - recall: 0.5542 - val_loss: 0.9354 - val_precision: 0.7760 - val_recall: 0.5302\n",
      "Epoch 70/100\n",
      "76196/76196 [==============================] - 10s 130us/step - loss: 0.9024 - precision: 0.7880 - recall: 0.5575 - val_loss: 0.9353 - val_precision: 0.7847 - val_recall: 0.5126\n",
      "Epoch 71/100\n",
      "76196/76196 [==============================] - 10s 133us/step - loss: 0.9012 - precision: 0.7879 - recall: 0.5565 - val_loss: 0.9355 - val_precision: 0.8023 - val_recall: 0.4994\n",
      "Epoch 72/100\n",
      "76196/76196 [==============================] - 9s 119us/step - loss: 0.9011 - precision: 0.7861 - recall: 0.5584 - val_loss: 0.9343 - val_precision: 0.7926 - val_recall: 0.5058\n",
      "Epoch 73/100\n",
      "76196/76196 [==============================] - 9s 123us/step - loss: 0.9000 - precision: 0.7904 - recall: 0.5504 - val_loss: 0.9317 - val_precision: 0.7624 - val_recall: 0.5464\n",
      "Epoch 74/100\n",
      "76196/76196 [==============================] - 9s 124us/step - loss: 0.8991 - precision: 0.7910 - recall: 0.5497 - val_loss: 0.9350 - val_precision: 0.7396 - val_recall: 0.5764\n",
      "Epoch 75/100\n",
      "76196/76196 [==============================] - 9s 120us/step - loss: 0.9007 - precision: 0.7842 - recall: 0.5615 - val_loss: 0.9308 - val_precision: 0.7475 - val_recall: 0.5634\n",
      "Epoch 76/100\n",
      "76196/76196 [==============================] - 10s 129us/step - loss: 0.8979 - precision: 0.7873 - recall: 0.5576 - val_loss: 0.9305 - val_precision: 0.7772 - val_recall: 0.5346\n",
      "Epoch 77/100\n",
      "76196/76196 [==============================] - 10s 125us/step - loss: 0.8967 - precision: 0.7835 - recall: 0.5611 - val_loss: 0.9310 - val_precision: 0.7917 - val_recall: 0.5110\n",
      "Epoch 78/100\n",
      "76196/76196 [==============================] - 9s 122us/step - loss: 0.8966 - precision: 0.7898 - recall: 0.5565 - val_loss: 0.9303 - val_precision: 0.7843 - val_recall: 0.5228\n",
      "Epoch 79/100\n",
      "76196/76196 [==============================] - 9s 123us/step - loss: 0.8956 - precision: 0.7898 - recall: 0.5526 - val_loss: 0.9286 - val_precision: 0.7733 - val_recall: 0.5406\n",
      "Epoch 80/100\n",
      "76196/76196 [==============================] - 9s 122us/step - loss: 0.8942 - precision: 0.7916 - recall: 0.5591 - val_loss: 0.9291 - val_precision: 0.7457 - val_recall: 0.5723\n",
      "Epoch 81/100\n",
      "76196/76196 [==============================] - 9s 122us/step - loss: 0.8945 - precision: 0.7863 - recall: 0.5587 - val_loss: 0.9276 - val_precision: 0.7762 - val_recall: 0.5317\n",
      "Epoch 82/100\n",
      "76196/76196 [==============================] - 10s 125us/step - loss: 0.8931 - precision: 0.7879 - recall: 0.5559 - val_loss: 0.9269 - val_precision: 0.7585 - val_recall: 0.5536\n",
      "Epoch 83/100\n",
      "76196/76196 [==============================] - 10s 125us/step - loss: 0.8923 - precision: 0.7890 - recall: 0.5633 - val_loss: 0.9266 - val_precision: 0.7695 - val_recall: 0.5483\n",
      "Epoch 84/100\n",
      "76196/76196 [==============================] - 9s 122us/step - loss: 0.8922 - precision: 0.7895 - recall: 0.5584 - val_loss: 0.9270 - val_precision: 0.7568 - val_recall: 0.5665\n",
      "Epoch 85/100\n",
      "76196/76196 [==============================] - 9s 123us/step - loss: 0.8920 - precision: 0.7937 - recall: 0.5558 - val_loss: 0.9266 - val_precision: 0.7432 - val_recall: 0.5789\n",
      "Epoch 86/100\n"
     ]
    },
    {
     "name": "stdout",
     "output_type": "stream",
     "text": [
      "76196/76196 [==============================] - 9s 120us/step - loss: 0.8908 - precision: 0.7858 - recall: 0.5634 - val_loss: 0.9266 - val_precision: 0.7652 - val_recall: 0.5501\n",
      "Epoch 87/100\n",
      "76196/76196 [==============================] - 10s 127us/step - loss: 0.8904 - precision: 0.7889 - recall: 0.5624 - val_loss: 0.9245 - val_precision: 0.7761 - val_recall: 0.5435\n",
      "Epoch 88/100\n",
      "76196/76196 [==============================] - 9s 123us/step - loss: 0.8894 - precision: 0.7908 - recall: 0.5611 - val_loss: 0.9240 - val_precision: 0.7797 - val_recall: 0.5323\n",
      "Epoch 89/100\n",
      "76196/76196 [==============================] - 9s 121us/step - loss: 0.8892 - precision: 0.7921 - recall: 0.5576 - val_loss: 0.9246 - val_precision: 0.7789 - val_recall: 0.5304\n",
      "Epoch 90/100\n",
      "76196/76196 [==============================] - 9s 123us/step - loss: 0.8887 - precision: 0.7866 - recall: 0.5631 - val_loss: 0.9238 - val_precision: 0.7934 - val_recall: 0.5193\n",
      "Epoch 91/100\n",
      "76196/76196 [==============================] - 9s 121us/step - loss: 0.8875 - precision: 0.7921 - recall: 0.5586 - val_loss: 0.9234 - val_precision: 0.7585 - val_recall: 0.5609\n",
      "Epoch 92/100\n",
      "76196/76196 [==============================] - 10s 126us/step - loss: 0.8870 - precision: 0.7901 - recall: 0.5668 - val_loss: 0.9225 - val_precision: 0.7886 - val_recall: 0.5253\n",
      "Epoch 93/100\n",
      "76196/76196 [==============================] - 9s 120us/step - loss: 0.8867 - precision: 0.7903 - recall: 0.5621 - val_loss: 0.9216 - val_precision: 0.7820 - val_recall: 0.5350\n",
      "Epoch 94/100\n",
      "76196/76196 [==============================] - 10s 134us/step - loss: 0.8864 - precision: 0.7968 - recall: 0.5578 - val_loss: 0.9223 - val_precision: 0.7500 - val_recall: 0.5760\n",
      "Epoch 95/100\n",
      "76196/76196 [==============================] - 9s 120us/step - loss: 0.8851 - precision: 0.7922 - recall: 0.5637 - val_loss: 0.9208 - val_precision: 0.7547 - val_recall: 0.5696\n",
      "Epoch 96/100\n",
      "76196/76196 [==============================] - 10s 126us/step - loss: 0.8846 - precision: 0.7899 - recall: 0.5686 - val_loss: 0.9209 - val_precision: 0.7900 - val_recall: 0.5228\n",
      "Epoch 97/100\n",
      "76196/76196 [==============================] - 9s 119us/step - loss: 0.8849 - precision: 0.7919 - recall: 0.5570 - val_loss: 0.9199 - val_precision: 0.7567 - val_recall: 0.5715\n",
      "Epoch 98/100\n",
      "76196/76196 [==============================] - 9s 117us/step - loss: 0.8845 - precision: 0.7873 - recall: 0.5685 - val_loss: 0.9213 - val_precision: 0.7922 - val_recall: 0.5244\n",
      "Epoch 99/100\n",
      "76196/76196 [==============================] - 9s 117us/step - loss: 0.8833 - precision: 0.7881 - recall: 0.5653 - val_loss: 0.9196 - val_precision: 0.7674 - val_recall: 0.5466\n",
      "Epoch 100/100\n",
      "76196/76196 [==============================] - 9s 119us/step - loss: 0.8833 - precision: 0.7914 - recall: 0.5693 - val_loss: 0.9211 - val_precision: 0.7561 - val_recall: 0.5696\n",
      "dict for history:  dict_keys(['val_loss', 'val_precision', 'val_recall', 'loss', 'precision', 'recall'])\n"
     ]
    }
   ],
   "source": [
    "#Fitting the model\n",
    "# Typically we choose epochs * batch_size >= total_params \n",
    "\n",
    "from keras.callbacks import History \n",
    "\n",
    "history = model.fit(X_train_nn,\n",
    "                    y_train_nn,\n",
    "                    epochs=100,\n",
    "                    batch_size=5000,\n",
    "                    validation_data=(X_test_nn, y_test_nn))\n",
    "\n",
    "print(\"dict for history: \", history.history.keys())"
   ]
  },
  {
   "cell_type": "markdown",
   "metadata": {},
   "source": [
    "### Precision and Recall metrics"
   ]
  },
  {
   "cell_type": "code",
   "execution_count": 45,
   "metadata": {},
   "outputs": [
    {
     "name": "stdout",
     "output_type": "stream",
     "text": [
      "range(1, 101)\n"
     ]
    },
    {
     "data": {
      "image/png": "[encoded data removed]",
      "text/plain": [
       "<Figure size 640x480 with 1 Axes>"
      ]
     },
     "metadata": {},
     "output_type": "display_data"
    }
   ],
   "source": [
    "import matplotlib.pyplot as plt\n",
    "\n",
    "#acc = history.history['acc']\n",
    "#val_acc = history.history['val_acc']\n",
    "\n",
    "#loss = history.history['loss']\n",
    "#val_loss = history.history['val_loss']\n",
    "\n",
    "prec = history.history['precision']\n",
    "val_prec = history.history['val_precision']\n",
    "\n",
    "recall = history.history['recall']\n",
    "val_recall = history.history['val_recall']\n",
    "\n",
    "epochs = range(1, len(acc) + 1)\n",
    "print(epochs)\n",
    "\n",
    "# \"bo\" is for \"blue dot\"\n",
    "plt.plot(epochs, prec, 'bo', label='Precision')\n",
    "# b is for \"solid blue line\"\n",
    "plt.plot(epochs, recall, 'b', label='Recall')\n",
    "plt.title('Precision and Recall curves')\n",
    "plt.xlabel('Epochs')\n",
    "plt.ylabel('Value')\n",
    "plt.legend(loc = 'lower right')\n",
    "\n",
    "plt.show()"
   ]
  },
  {
   "cell_type": "code",
   "execution_count": 46,
   "metadata": {},
   "outputs": [
    {
     "data": {
      "image/png": "[encoded data removed]",
      "text/plain": [
       "<Figure size 640x480 with 1 Axes>"
      ]
     },
     "metadata": {},
     "output_type": "display_data"
    }
   ],
   "source": [
    "#history_dict = history.history\n",
    "plt.clf()   # clear figure\n",
    "#plt.plot(epochs, mae, 'bo', label='Training mae')\n",
    "#plt.plot(epochs, val_mae, 'b', label='Validation mae')\n",
    "#plt.plot(epochs, acc, 'bo', label='Training Accuracy')\n",
    "#plt.plot(epochs, val_acc, 'b', label='Validation Accuracy')\n",
    "\n",
    "plt.plot(epochs, prec, 'bo', label='Training Precision')\n",
    "plt.plot(epochs, val_prec, 'b', label='Validation Precision')\n",
    "\n",
    "plt.plot(epochs, recall, 'bo', label='Training Recall')\n",
    "plt.plot(epochs, val_recall, 'b', label='Validation Recall')\n",
    "\n",
    "plt.title('Training versus Validation curves')\n",
    "plt.xlabel('Epochs')\n",
    "plt.ylabel('Values')\n",
    "plt.legend(loc='lower right')\n",
    "\n",
    "plt.show()"
   ]
  },
  {
   "cell_type": "markdown",
   "metadata": {},
   "source": [
    "### Did this beat the traditional ML model for text data prediction?  "
   ]
  },
  {
   "cell_type": "markdown",
   "metadata": {},
   "source": [
    "### Just barely! We got higher precision but lower recall yielding an overall F1 score = 66.22% [ a harmonic mean of precision and recall = 2*p*r / (p+r) ] which just beat the traditional ML model that had an F1 score = 65.39%"
   ]
  },
  {
   "cell_type": "code",
   "execution_count": null,
   "metadata": {
    "collapsed": true
   },
   "outputs": [],
   "source": []
  }
 ],
 "metadata": {
  "kernelspec": {
   "display_name": "Python 3",
   "language": "python",
   "name": "python3"
  },
  "language_info": {
   "codemirror_mode": {
    "name": "ipython",
    "version": 3
   },
   "file_extension": ".py",
   "mimetype": "text/x-python",
   "name": "python",
   "nbconvert_exporter": "python",
   "pygments_lexer": "ipython3",
   "version": "3.6.3"
  }
 },
 "nbformat": 4,
 "nbformat_minor": 2
}
